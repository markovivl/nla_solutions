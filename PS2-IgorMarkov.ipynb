{
 "cells": [
  {
   "cell_type": "markdown",
   "metadata": {},
   "source": [
    "# Problem set 2 (145 pts)"
   ]
  },
  {
   "cell_type": "markdown",
   "metadata": {},
   "source": [
    "## Problem 1 (LU decomposition) 25 pts"
   ]
  },
  {
   "cell_type": "markdown",
   "metadata": {},
   "source": [
    "### 1. LU for band matrices (7 pts)\n",
    "\n",
    "The complexity to find an LU decomposition of a dense $n\\times n$ matrix is $\\mathcal{O}(n^3)$.\n",
    "Significant reduction in complexity can be achieved if the matrix has a certain structure, e.g. it is sparse. \n",
    "In the following task we consider an important example of $LU$ for a special type of sparse matrices –– band matrices with the bandwidth $m$ equal to 3 or 5 which called tridiagonal and pentadiagonal respectively.\n",
    "\n",
    "- (5 pts) Write a function ```band_lu(diag_broadcast, n)``` which computes LU decomposition for tridiagonal or pentadiagonal matrix with given diagonal values. \n",
    "For example, input parametres ```(diag_broadcast = [4,-2,3], n = 4)``` mean that we need to find LU decomposition for the triangular matrix of the form:\n",
    "\n",
    "$$A = \\begin{pmatrix}\n",
    "-2 & 3 & 0 & 0\\\\\n",
    "4 & -2 & 3 & 0 \\\\\n",
    "0 & 4 & -2 & 3 \\\\\n",
    "0 & 0 & 4 & -2 \\\\\n",
    "\\end{pmatrix}.$$\n",
    "\n",
    "As an output it is considered to make ```L``` and ```U``` - 2D arrays representing diagonals in factors $L$ (```L[0]``` keeps first lower diagonal, ```L[1]``` keeps second lower, ...), and $U$ (```U[:,0]``` keeps main diagonal, ```U[:,1]``` keeps first upper, ...).\n",
    "- (2 pts) Compare execution time of the band LU decomposition using standard function from ```scipy```, i.e. which takes the whole matrix and does not know about its special structure, and band decomposition of yours implementation. Comment on the results."
   ]
  },
  {
   "cell_type": "code",
   "execution_count": 479,
   "metadata": {},
   "outputs": [],
   "source": [
    "from numba import jit\n",
    "import matplotlib.pyplot as plt"
   ]
  },
  {
   "cell_type": "code",
   "execution_count": 3,
   "metadata": {},
   "outputs": [],
   "source": [
    "from scipy.sparse import diags # can be used with broadcasting of scalars if desired dimensions are large\n",
    "import numpy as np\n",
    "\n",
    "# INPUT : diag_broadcast - list of diagonals value to broadcast,length equal to 3 or 5; n - integer, \n",
    "#band matrix shape.\n",
    "# OUTPUT : L - D np.ndarray, L.shape[0] depends on bandwidth, L.shape[1] = n-1, do not store main diagonal,\n",
    "#where all ones;\n",
    "# add zeros to the right side of rows to handle with changing length of diagonals.\n",
    "#          U - 2D np.ndarray, U.shape[0] = n, U.shape[1] depends on bandwidth;\n",
    "#              add zeros to the bottom of columns to handle with changing length of diagonals.\n",
    "@jit\n",
    "def band_lu(diag_broadcast, n):\n",
    "    d = len(diag_broadcast)\n",
    "    if d == 3:\n",
    "        L = np.zeros((1,n-1))\n",
    "        U = np.zeros((n, 2))\n",
    "        A = diags(diag_broadcast, [-1,0,1], shape = (n,n)).tocsr()\n",
    "        U[0,0] = A[0,0]\n",
    "        for i in range(n-1):\n",
    "            fig = A[i+1,i]/A[i,i]\n",
    "            L[0,i] = fig\n",
    "            A[i+1,i] = 0\n",
    "            A[i+1, i+1] -= A[i, i+1]*fig\n",
    "            U[i+1,0] = A[i+1, i+1]\n",
    "            U[i,1] = diag_broadcast[2]\n",
    "        \n",
    "    elif d == 5:\n",
    "        L = np.zeros((2, n-1))\n",
    "        U = np.zero\n",
    "        s((n,3))\n",
    "        A = diags(diag_broadcast, [-2,-1,0,1,2], shape = (n,n)).tocsr()\n",
    "        U[0,0] = A[0,0]\n",
    "        U[0,1] = A[0,1]\n",
    "        for i in range(n-2):\n",
    "            fig1 = A[i+1, i]/A[i,i]\n",
    "            L[0,i] = fig1\n",
    "            A[i+1, i] = 0\n",
    "            A[i+1,i+1] -= A[i, i+1]*fig1\n",
    "            A[i+1,i+2] -= A[i, i+2]*fig1\n",
    "            U[i+1,0] = A[i+1,i+1]\n",
    "            U[i+1,1] = A[i+1,i+2]\n",
    "            U[i,2] = diag_broadcast[4]\n",
    "            fig2 = A[i+2, i]/A[i,i]\n",
    "            L[1,i] = fig2\n",
    "            A[i+2, i] = 0\n",
    "            A[i+2, i+1] -= A[i,i+1]*fig2\n",
    "            A[i+2, i+2] -= A[i, i+2]*fig2\n",
    "        fig = A[n-1,n-2]/A[n-2,n-2]\n",
    "        L[0,n-1] = fig\n",
    "        A[n-1,n-1] -= A[n-2, n-1]*fig\n",
    "        U[n-1,0] = A[n-1,n-1]\n",
    "    \n",
    "    else:\n",
    "        raise NotImplementedError()\n",
    "        \n",
    "    return L, U\n",
    "    "
   ]
  },
  {
   "cell_type": "code",
   "execution_count": 4,
   "metadata": {},
   "outputs": [],
   "source": [
    "from scipy.linalg import lu"
   ]
  },
  {
   "cell_type": "code",
   "execution_count": 5,
   "metadata": {},
   "outputs": [],
   "source": [
    "Lm, Um = band_lu([4,-2,3], 5)"
   ]
  },
  {
   "cell_type": "code",
   "execution_count": 6,
   "metadata": {},
   "outputs": [
    {
     "name": "stdout",
     "output_type": "stream",
     "text": [
      "[[-2.   1.  -0.8 10. ]] \n",
      "\n",
      " [[ -2.    3. ]\n",
      " [  4.    3. ]\n",
      " [ -5.    3. ]\n",
      " [  0.4   3. ]\n",
      " [-32.    0. ]]\n"
     ]
    }
   ],
   "source": [
    "print(Lm,'\\n\\n', Um)"
   ]
  },
  {
   "cell_type": "markdown",
   "metadata": {},
   "source": [
    "The result above corresponds to my analytical calculations."
   ]
  },
  {
   "cell_type": "code",
   "execution_count": 7,
   "metadata": {},
   "outputs": [],
   "source": [
    "A = diags([4,-2,3], [-1,0,1], shape = (10000,10000)).toarray()"
   ]
  },
  {
   "cell_type": "code",
   "execution_count": 8,
   "metadata": {},
   "outputs": [
    {
     "name": "stdout",
     "output_type": "stream",
     "text": [
      "23.9 s ± 3.67 s per loop (mean ± std. dev. of 7 runs, 1 loop each)\n",
      "5.8 s ± 639 ms per loop (mean ± std. dev. of 7 runs, 1 loop each)\n"
     ]
    }
   ],
   "source": [
    "%timeit lu(A)\n",
    "%timeit band_lu([4,-2,3],10000)"
   ]
  },
  {
   "cell_type": "markdown",
   "metadata": {},
   "source": [
    "### 2. Stability of LU (8 pts)\n",
    "\n",
    "Let\n",
    "$A = \\begin{pmatrix}\n",
    "\\varepsilon & 1 & 0\\\\\n",
    "1 & 1 & 1 \\\\\n",
    "0 & 1 & 1\n",
    "\\end{pmatrix}.$ \n",
    "* (5 pts) Find analytically LU decomposition with and without pivoting for the matrix $A$.\n",
    "* (3 pts) Explain, why can the LU decomposition fail to approximate factors $L$ and $U$ for $|\\varepsilon|\\ll 1$ in computer arithmetic?"
   ]
  },
  {
   "cell_type": "markdown",
   "metadata": {},
   "source": [
    "1.2.1.\n",
    "\n",
    "With pivoting.\n",
    "\n",
    "$$\n",
    "P = \\begin{pmatrix}\n",
    "0 & 1 & 0\\\\\n",
    "1 & 0 & 0\\\\\n",
    "0 & 0 & 1\\\\\n",
    "\\end{pmatrix}\\\\\n",
    "A = P A^{P} = \\begin{pmatrix}\n",
    "0 & 1 & 0\\\\\n",
    "1 & 0 & 0\\\\\n",
    "0 & 0 & 1\\\\\n",
    "\\end{pmatrix} \\begin{pmatrix}\n",
    "1 & 1 & 1\\\\\n",
    "\\varepsilon & 1 & 0\\\\\n",
    "0 & 1 & 1\\\\\n",
    "\\end{pmatrix}; \\quad A^{P} = PA; \\\\\n",
    "A = P L^P U^P\\\\\n",
    "L^P = \\begin{pmatrix}\n",
    "1 & 0 & 0\\\\\n",
    "\\varepsilon & 1 & 0\\\\\n",
    "0 & \\frac{1}{1-\\varepsilon} & 1\\\\\n",
    "\\end{pmatrix}; \\quad \n",
    "U^P = \\begin{pmatrix}\n",
    "1 & 1 & 1\\\\\n",
    "0 & 1 - \\varepsilon & \\varepsilon \\\\\n",
    "0 & 0 & \\frac{1}{1 - \\varepsilon}\\\\\n",
    "\\end{pmatrix}\n",
    "$$\n",
    "\n"
   ]
  },
  {
   "cell_type": "markdown",
   "metadata": {},
   "source": [
    "Without pivoting.\n",
    "\n",
    "$$\n",
    "L = \\begin{pmatrix}\n",
    "1 & 0 & 0\\\\\n",
    "\\color{red}{\\frac{1}{\\varepsilon}} & 1 & 0\\\\\n",
    "0 & \\frac{\\varepsilon}{\\varepsilon - 1} & 1\\\\\n",
    "\\end{pmatrix}\\\\\n",
    "U = \\begin{pmatrix}\n",
    "\\varepsilon & 1 & 0\\\\\n",
    "\\color{red}{ 1 - \\frac{\\varepsilon}{\\varepsilon}} & {\\frac{\\varepsilon - 1}{\\varepsilon}}& 0\\\\\n",
    "0 & 1 - \\color{red}{\\frac{\\varepsilon}{\\varepsilon - 1}\\frac{\\varepsilon - 1}{\\varepsilon}} & \\frac{1}{1 - \\varepsilon}\\\\\n",
    "\\end{pmatrix}\n",
    "$$\n",
    "\n"
   ]
  },
  {
   "cell_type": "markdown",
   "metadata": {},
   "source": [
    "1.2.2.\n",
    "\n",
    "Because of the floating point arithmetic, the computer cannot store too large or too small numbers, and especially preserve all the digits after completing certain operations. If the number is too small, the computer cannot distinguish it well from zero and certain operations fail or produce incorrect results. Therefore, the U matrix can become non-triangular."
   ]
  },
  {
   "cell_type": "markdown",
   "metadata": {},
   "source": [
    "### 3. Block LU (10 pts)\n",
    "\n",
    "Let $A = \\begin{bmatrix} A_{11} & A_{12} \\\\ A_{21} & A_{22} \\end{bmatrix}$ be a block matrix. The goal is to solve the linear system\n",
    "\n",
    "$$\n",
    "     \\begin{bmatrix} A_{11} & A_{12} \\\\ A_{21} & A_{22} \\end{bmatrix} \\begin{bmatrix} u_1 \\\\ u_2 \\end{bmatrix} = \\begin{bmatrix} f_1 \\\\ f_2 \\end{bmatrix}.\n",
    "$$\n",
    "\n",
    "* (2 pts) Using block elimination find matrix $S$ and right-hand side $\\hat{f_2}$ so that $u_2$ can be found from $S u_2 = \\hat{f_2}$. Note that the matrix $S$ is called <font color='red'> Schur complement </font> of the block $A_{11}$.\n",
    "* (4 pts) Using Schur complement properties prove that \n",
    "\n",
    "$$\\det(X+AB) = \\det(X)\\det(I+BX^{-1}A), $$\n",
    "\n",
    "\n",
    "where $X$ - nonsingular square matrix.\n",
    "* (4 pts) Let matrix $F \\in \\mathbb{R}^{m \\times n}$ and $G \\in \\mathbb{R}^{n \\times m}$. Prove that \n",
    "\n",
    "$$\\det(I_m - FG) = \\det(I_n - GF).$$"
   ]
  },
  {
   "cell_type": "markdown",
   "metadata": {},
   "source": [
    "1.3.1.\n",
    "Like that.\n",
    "\n",
    "$$\n",
    "A_{11}u_{1} + A_{12}u_{2} = f_{1}\\\\\n",
    "A_{21}u_{1} + A_{22}u_{2} = f_{2}\\\\\n",
    "$$\n",
    "We first solve second equation for $u_1$. \n",
    "$$\n",
    "u_{1} = A_{21}^{-1}(f_{2} - A_{22}u_{2})\n",
    "$$\n",
    "Then we substitute $u_1$ from original system with the expression above.\n",
    "$$\n",
    "A_{11}A_{21}^{-1}(f_{2} - A_{22}u_{2}) + A_{12}u_{2} = f_{1}\\\\\n",
    "A_{11}A_{21}^{-1}f_{2} - A_{11}A_{21}^{-1}A_{22}u_{2} + A_{12}u_2 = f_1\\\\\n",
    "$$\n",
    "Finally, \n",
    "$$\n",
    "(A_{12} - A_{11} A_{21}^{-1} A_{22})u_{2} = f_{1} - A_{11}A_{21}^{-1}f_2\\\\\n",
    "S = A_{12} - A_{11} A_{21}^{-1} A_{22};\\quad \\hat{f_2} =  f_{1} - A_{11}A_{21}^{-1}f_2\n",
    "$$\n",
    "\n",
    "With block elimination.\n",
    "\n",
    "Let's multiply both sides with a matrix $\\begin{pmatrix} I & 0 \\\\\n",
    "                                                -A_{21}A_{11}^{-1} I\\end{pmatrix}$. \n",
    "                                                \n",
    "$$\n",
    "\\begin{pmatrix}\n",
    "A_{11}  & A_{12}\\\\\n",
    "0 & A_{22} - A_{21}A_{11}^{-1}A_{12}\\\\ \n",
    "\\end{pmatrix} \\begin{pmatrix} u_1 \\\\\n",
    "                              u_2\\end{pmatrix} = \\begin{pmatrix} f_1 \\\\\n",
    "                                                                 f_2 - A_{21}A_{11}^{-1}\\end{pmatrix}\n",
    "$$\n",
    "That way we determine the Schur complement.\n",
    "$$\n",
    "S = A_{22} - A_{21}A_{11}^{-1}A_{12};\\quad \\hat{f_2} = f_2 - A_{21}A_{11}^{-1} \n",
    "$$"
   ]
  },
  {
   "cell_type": "markdown",
   "metadata": {},
   "source": [
    "1.3.2.\n",
    "If matrices $A$, $B$, $C$, $D$ have shapes $p \\times p$, $p \\times q$, $q \\times p$ and $q \\times q$ respectively, and matrix D is invertible, then\n",
    "\n",
    "$$\n",
    "\\begin{pmatrix} \n",
    "A & B \\\\ \n",
    "C & D\\\\ \n",
    "\\end{pmatrix} = \n",
    "\\begin{pmatrix} A - BD^{-1} C & B \\\\\n",
    "                0 & D\\\\ \n",
    "\\end{pmatrix}\n",
    "\\begin{pmatrix} \n",
    "I & 0 \\\\ \n",
    "D^{-1}C & I\\\\ \n",
    "\\end{pmatrix}\n",
    "$$\n",
    "\n",
    "$$\n",
    "\\det(AD + BC) = \\det(A - BD^{-1}C) \\cdot \\det(D^{-1}C)\n",
    "$$\n",
    "If we now consider matrix $ K = \\begin{pmatrix} I & A \\\\ B & X\\\\ \\end{pmatrix}$ then \n",
    "$$\n",
    "\\det(K) = \\det(X - AB) = \\det(X)\\det(I - AX^{-1}B)\n",
    "$$\n",
    "if X is invertible. QED."
   ]
  },
  {
   "cell_type": "markdown",
   "metadata": {},
   "source": [
    "1.3.3.\n",
    "According to the previous task,\n",
    "$$\n",
    "\\det(X+AB) = \\det(X)\\det(I+BX^{-1}A)\n",
    "$$\n",
    "According to it, if we substitute $X$ with $I$, we will get\n",
    "$$\n",
    "\\det(I + AB)  = \\det(I + BA)\n",
    "$$\n",
    "If we then substitute $A$ with $-G$ and $B$ with $F$, we will get\n",
    "$$\n",
    "\\det(I - GF) = \\det(I - FG).\n",
    "$$\n",
    "\n",
    "QED."
   ]
  },
  {
   "cell_type": "markdown",
   "metadata": {
    "slideshow": {
     "slide_type": "fragment"
    }
   },
   "source": [
    "## Problem 2 (QR decomposition) 30 pts\n",
    "\n",
    "### 1. Standard Gram-Schmidt algorithm (18 pts)\n",
    "Our goal is to orthogonalize a system of linearly independent vectors $v_1,\\dots,v_n$.\n",
    "The standard algorithm for this task is the Gram-Schmidt process:\n",
    "\n",
    "$$\n",
    "\\begin{split}\n",
    "u_1 &= v_1, \\\\\n",
    "u_2 &= v_2 - \\frac{(v_2, u_1)}{(u_1, u_1)} u_1, \\\\\n",
    "\\dots \\\\\n",
    "u_n &= v_n - \\frac{(v_n, u_1)}{(u_1, u_1)} u_1 - \\frac{(v_n, u_2)}{(u_2, u_2)} u_2 - \\dots - \\frac{(v_n, u_{n-1})}{(u_{n-1}, u_{n-1})} u_{n-1}.\n",
    "\\end{split}\n",
    "$$\n",
    "\n",
    "Obtained $u_1, \\dots, u_n$ are orthogonal vectors in exact arithmetics. Then to make the system orthonormal you should divide each of the vectors by its norm: $u_i := u_i/\\|u_i\\|$.\n",
    "The Gram-Schmidt process can be considered as a QR decomposition. Let us show that."
   ]
  },
  {
   "cell_type": "markdown",
   "metadata": {},
   "source": [
    "* (2 pts) Write out what is matrices $Q$ and $R$ obtained in the process above. \n",
    "\n",
    "* (5 pts) Implement the described Gram-Schmidt algorithm as a function ```gram_schmidt_qr(A)``` that takes a rectangular matrix ```A``` and outputs ```Q,R```.\n",
    "\n",
    "* (3 pts) Create a rectangular matrix $K = [x, Ax, A^2x, \\ldots, A^kx]$ where $A \\in \\mathbb{R}^{100 \\times 100}$ is a random matrix and $x$ is a random vector of the appropriate dimension, $k = 20$.  \n",
    "The loss of orthogonality can be described by the following error: $\\|Q^{\\top}Q-I\\|_2$, where $Q^{\\top}Q$ is called a Gram matrix. Compute QR decomposition of the created matrix $K$ with function that you have implemented and calculate error $\\|Q^{\\top}Q-I\\|_2$. Comment on the result.\n",
    "\n",
    "* (5 pts) The observed loss of orthogonality is a problem of this particular algorithm. Luckily, there is [a simple improvement to the algorithm above](https://en.wikipedia.org/wiki/Gram–Schmidt_process#Numerical_stability) that reduces the loss of orthogonality. Implement this modification as a function ```modified_gram_schmidt_qr(A)``` such that input and output are similar to ```gram_schmidt_qr(A)```. \n",
    "* (3 pts) Compute QR decomposition of the matrix $K$ from the previous task with the function ```modified_gram_schmidt_qr(A)```.\n",
    "Compute error $\\|Q^{\\top}Q-I\\|_2$. Compare this error to the error obtained with a \"pure\" Gram-Schmidt and comment on the result."
   ]
  },
  {
   "cell_type": "markdown",
   "metadata": {},
   "source": [
    "Matrice Q is a unitary matrix containing the obtained orthogonal basis $[\\mathbf{e}_1, \\dots, \\mathbf{e}_n]$, where $\\mathbf{e}_i$ is $\\frac{u_i}{\\|u_i\\|}$.\n",
    "R is an upper triangular matrix with scalar products of basis vectors and $v_i$ vectors, of the form \n",
    "$$\n",
    "\\begin{pmatrix} \n",
    "<\\mathbf{e_1}, v_1> & <\\mathbf{e_1}, v_2> & \\dots & <\\mathbf{e_1}, v_n>\\\\\n",
    "0 & <\\mathbf{e_2}, v_2> & \\dots & <\\mathbf{e_2}, v_n>\\\\\n",
    "\\vdots & \\vdots & \\dots & \\vdots\\\\\n",
    "0 & 0 & 0 & <\\mathbf{e_n}, v_n>\n",
    "\\end{pmatrix}\n",
    "$$"
   ]
  },
  {
   "cell_type": "code",
   "execution_count": 252,
   "metadata": {},
   "outputs": [],
   "source": [
    "# INPUT : rectangular matrix A\n",
    "# OUTPUT: matrices Q - orthogonal and R - upper triangular such that A = QR\n",
    "def gram_schmidt_qr(A): # 5 pts\n",
    "    m, n = A.shape[0], A.shape[1]\n",
    "    if m >= n:\n",
    "        A = np.array(A, dtype = float)\n",
    "        Q = A.copy()\n",
    "        R = np.zeros((n,n))\n",
    "        for i in range(n):\n",
    "            if i ==0:\n",
    "                    Q[:,i] = A[:,i]/(np.linalg.norm(A[:,i]))\n",
    "            else:\n",
    "                for j in range(i):\n",
    "                        dotprod = np.dot(A[:,i], Q[:,j])\n",
    "                        Q[:,i] -= dotprod/((np.linalg.norm(Q[:,j]))**2)*Q[:,j]        \n",
    "                Q[:,i]  /= np.linalg.norm(Q[:,i])\n",
    "            \n",
    "        for i in range(n):\n",
    "            for j in range(i+1):\n",
    "                R[j,i] = np.dot(A[:,i].T, Q[:,j])\n",
    "\n",
    "    return Q,R"
   ]
  },
  {
   "cell_type": "code",
   "execution_count": 253,
   "metadata": {},
   "outputs": [],
   "source": [
    "a = np.array([[12,-51,4], [6, 167, -68],[-4, 24, -41]], dtype=float)#wikipedia example \n",
    "#to check if the decomposition works\n",
    "Q, R = gram_schmidt_qr(a)\n",
    "Qm,Rm = modified_gram_schmidt_qr(a)"
   ]
  },
  {
   "cell_type": "code",
   "execution_count": 254,
   "metadata": {},
   "outputs": [
    {
     "name": "stdout",
     "output_type": "stream",
     "text": [
      "[[ 0.85714286 -0.39428571 -0.33142857]\n",
      " [ 0.42857143  0.90285714  0.03428571]\n",
      " [-0.28571429  0.17142857 -0.94285714]] \n",
      " [[ 14.  21. -14.]\n",
      " [  0. 175. -70.]\n",
      " [  0.   0.  35.]]\n"
     ]
    }
   ],
   "source": [
    "print(Q, '\\n',R)"
   ]
  },
  {
   "cell_type": "code",
   "execution_count": 255,
   "metadata": {},
   "outputs": [
    {
     "name": "stdout",
     "output_type": "stream",
     "text": [
      "[[ 0.85714286 -0.39428571 -0.33142857]\n",
      " [ 0.42857143  0.90285714  0.03428571]\n",
      " [-0.28571429  0.17142857 -0.94285714]] \n",
      " [[ 14.  21. -14.]\n",
      " [  0. 175. -70.]\n",
      " [  0.   0.  35.]]\n"
     ]
    }
   ],
   "source": [
    "print(Qm, '\\n', Rm)"
   ]
  },
  {
   "cell_type": "code",
   "execution_count": 256,
   "metadata": {},
   "outputs": [],
   "source": [
    "def generate_k(k=20):\n",
    "    A = np.random.rand(100,100)\n",
    "    x = np.random.rand(100)\n",
    "    fig = x.copy()\n",
    "    K = x.reshape(-1,1)\n",
    "    for i in range(1,k):\n",
    "        fig = A@fig\n",
    "        K = np.hstack((K, fig.reshape(-1,1)))\n",
    "    return K"
   ]
  },
  {
   "cell_type": "code",
   "execution_count": 257,
   "metadata": {},
   "outputs": [],
   "source": [
    "K = generate_k()"
   ]
  },
  {
   "cell_type": "code",
   "execution_count": 258,
   "metadata": {},
   "outputs": [],
   "source": [
    "Q, R = gram_schmidt_qr(K)"
   ]
  },
  {
   "cell_type": "code",
   "execution_count": 259,
   "metadata": {},
   "outputs": [],
   "source": [
    "qtq = Q.T.dot(Q)\n",
    "fig = np.linalg.norm(qtq-np.eye(qtq.shape[0]), 2)"
   ]
  },
  {
   "cell_type": "code",
   "execution_count": 260,
   "metadata": {},
   "outputs": [
    {
     "name": "stdout",
     "output_type": "stream",
     "text": [
      "12.002631706986433\n"
     ]
    }
   ],
   "source": [
    "print(fig)"
   ]
  },
  {
   "cell_type": "markdown",
   "metadata": {},
   "source": [
    "The norm of the resulting matrix is quite far from zero, which means that the matrix Q is no longer orthogonal. The orthogonality has been lost."
   ]
  },
  {
   "cell_type": "code",
   "execution_count": 238,
   "metadata": {},
   "outputs": [],
   "source": [
    "# INPUT : rectangular matrix A\n",
    "# OUTPUT: matrices Q - orthogonal and R - upper triangular such that A = QR\n",
    "def modified_gram_schmidt_qr(A): # 5 pts\n",
    "    m, n = A.shape[0], A.shape[1]\n",
    "    if m >= n:\n",
    "        A = np.array(A, dtype = float)\n",
    "        Q = A.copy()\n",
    "        R = np.zeros((n,n))\n",
    "        for i in range(n):\n",
    "                for j in range(i):\n",
    "                        dotprod = np.dot(Q[:,i], Q[:,j])\n",
    "                        Q[:,i] -= dotprod/((np.linalg.norm(Q[:,j]))**2)*Q[:,j]        \n",
    "                Q[:,i] /= np.linalg.norm(Q[:,i])\n",
    "        for i in range(n):\n",
    "            for j in range(i+1):\n",
    "                R[j,i] = np.dot(A[:,i].T, Q[:,j])\n",
    "\n",
    "    return Q,R"
   ]
  },
  {
   "cell_type": "code",
   "execution_count": 263,
   "metadata": {},
   "outputs": [
    {
     "name": "stdout",
     "output_type": "stream",
     "text": [
      "0.9015849595952529\n"
     ]
    }
   ],
   "source": [
    "K = generate_k()\n",
    "Qm, Rm = modified_gram_schmidt_qr(K)\n",
    "Q, R = gram_schmidt_qr(K)\n",
    "qtq = Qm.T.dot(Qm)\n",
    "fig = np.linalg.norm(qtq-np.eye(qtq.shape[0]), 2)\n",
    "print(fig)"
   ]
  },
  {
   "cell_type": "markdown",
   "metadata": {},
   "source": [
    "The difference is much lower than the one obtained previously. The rounding errors do not sum up as we compute orthogonal vectors to the q vectors, not the a vectors."
   ]
  },
  {
   "cell_type": "markdown",
   "metadata": {},
   "source": [
    "### 2. Updating QR decompositions (12 pts)\n",
    "\n",
    "Suppose we are dealing with overdetermined system:\n",
    "\n",
    "$$ Ax = y, \\;\\; A \\in \\mathbb{R}^{m \\times n}, \\;\\;  m \\geq n. $$\n",
    "\n",
    "If you were attentive during the course, you should be aware of \n",
    "the canonical way to solve this system. \n",
    "\n",
    "- No, implementing **Householder $QR$** will not be your task :)\n",
    "\n",
    "- We assume that $QR$ decomposition of $A$ **is given**:\n",
    "\n",
    "$$ QR = A = \\begin{bmatrix}a_1 & a_2 & \\ldots & a_n \\end{bmatrix}, \\;\\; a_i \\in \\mathbb{R}^m,$$\n",
    "\n",
    "where $Q \\in \\mathbb{R}^{m \\times m}$ is unitary matrix and $R \\in \\mathbb{R}^{m \\times n}$ is upper triangular.\n",
    "\n",
    "- Let $k$ be an arbitrary column index, $1 \\leq k \\leq n$, and $z \\in \\mathbb{R}^{m}$ be an arbitrary vector.\n",
    "\n",
    "We are interested in matrices:\n",
    "\n",
    "$$ \\tilde{A} = \\begin{bmatrix}a_1 & \\ldots & a_{k-1} & a_{k+1} & \\ldots a_n \\end{bmatrix} \\in \\mathbb{R}^{m \\times (n-1)},$$\n",
    "\n",
    "and:\n",
    "\n",
    "$$ \\hat{A} = \\begin{bmatrix}a_1 & \\ldots & a_{k} & z & a_{k+1} & \\ldots a_n \\end{bmatrix} \\in \\mathbb{R}^{m \\times (n+1)},$$\n",
    "\n",
    "which are obtained by deleting / inserting one column from / to the matrix $A$.\n",
    "\n",
    "For example, if $A$ comes from a least-squares problem, such matrices appear if one wants to examine the significance of the $k^{th}$ parameter in the underlying model (e.g. think in terms of linear regression).\n",
    "\n",
    "- We want to compute decompostions of these updated matrices:\n",
    "\n",
    "$$ \\tilde{A} = \\tilde{Q}\\tilde{R}, \\;\\; \\hat{A} = \\hat{Q}\\hat{R}. $$\n",
    "\n",
    "Performing full orthogonalization process will be redundant. Instead, the known $QR$ factors of $A$ should be **updated** in a proper way.\n",
    "\n",
    "- Different methods for performing $QR$ decomposition were studied during the course. We expect the factors of updated matrices can be recovered with a small number of selective updates, hence the **Givens rotations** seem to be the most appropriate.\n",
    "\n",
    "- Recall the Givens rotation matrix :\n",
    "\n",
    "$$G_{ij}(\\theta) = \\begin{bmatrix} \n",
    "1      & \\ldots & 0      & \\ldots & 0      & \\ldots & 0      \\\\\n",
    "\\vdots & \\ddots & \\vdots &        & \\vdots &        & \\vdots \\\\\n",
    "0      & \\ldots & c      & \\ldots & s      & \\ldots & 0      \\\\\n",
    "\\vdots &        & \\vdots & \\ddots & \\vdots &        & \\vdots \\\\\n",
    "0      & \\ldots & -s     & \\ldots & c      & \\ldots & 0      \\\\\n",
    "\\vdots &        & \\vdots &        & \\vdots & \\ddots & \\vdots \\\\\n",
    "0      & \\ldots & 0      & \\ldots & 0      & \\ldots & 1      \n",
    "\\end{bmatrix}  \\;\\; \\in \\mathbb{R}^{m \\times m}, \\;\\; c = \\cos \\theta, \\;\\; s = \\sin \\theta,$$ \n",
    "\n",
    "which differs from the identity $\\mathrm{I}^{m \\times m}$ by a $2 \\times 2$ sub-matrix:\n",
    "\n",
    "$$\n",
    "{G}(\\theta) = \\begin{bmatrix} c & s \\\\ -s & c \\end{bmatrix} \\in \\mathbb{R}^{2 \\times 2},\n",
    "$$\n",
    "placed on the rows and columns with indices $i$ and $j$. \n",
    "\n",
    "1. (1 pts)\n",
    "Matrix ${G}$ has clear geometric interpretation in 2 dimensions. Let  $a = \\begin{pmatrix} a_1 \\\\ a_2 \\end{pmatrix} \\in \\mathbb{R}^2$ be an arbitrary non-zero vector. According to the template provided below, implement the function to construct matrix $G$, such that:\n",
    "\n",
    "$$ {G}^T \\begin{pmatrix} a_1 \\\\ a_2 \\end{pmatrix} = \\begin{pmatrix} \\alpha \\\\ 0 \\end{pmatrix}.$$\n",
    "\n",
    "What are geometrical meanings of $\\alpha$ and $\\theta$? \n"
   ]
  },
  {
   "cell_type": "code",
   "execution_count": 282,
   "metadata": {},
   "outputs": [
    {
     "data": {
      "text/plain": [
       "array([-1.17903629e+00, -1.58967066e-18])"
      ]
     },
     "execution_count": 282,
     "metadata": {},
     "output_type": "execute_result"
    }
   ],
   "source": [
    "def givens(a):\n",
    "    '''\n",
    "    Input: \n",
    "        a: np.array of size (2)\n",
    "    Output: \n",
    "        G: np.array of size (2, 2)\n",
    "            Rotation matrix, G^T eliminates the second component of a\n",
    "    '''\n",
    "    r = np.linalg.norm(a,2)\n",
    "    c = -a[0]/r\n",
    "    s = a[1]/r\n",
    "    return np.array([[c, s],\n",
    "                     [-s, c]])\n",
    "\n",
    "# Check yourself \n",
    "a = np.random.rand(2)\n",
    "givens(a).T.dot(a) "
   ]
  },
  {
   "cell_type": "code",
   "execution_count": null,
   "metadata": {},
   "outputs": [],
   "source": []
  },
  {
   "cell_type": "markdown",
   "metadata": {},
   "source": [
    "- Similarly, matrix $G_{ij}$ can be constructed in order to eliminate the $j^{th}$ component of an arbitrary vector of size $m$. This leads to the well-known **Givens $QR$ algorithm** (see lecture notes!).\n",
    "\n",
    "- Givens rotations typically appear in matrix form:\n",
    "\n",
    "$$ G_{ij}^T X, \\;\\; X^{'}G_{ij},$$\n",
    "\n",
    "where $X$ and $X^{'}$ are some matrices with compatible sizes, e.g. intermediate factors in the **Givens $QR$ algorithm**. \n",
    "\n",
    "How to perform these multiplications efficiently? \n",
    "Obviously, $G_{ij}$ does not need to be stored in explicit form. It affects only two rows / columns, hence only appropriate submatrices should be modified.\n",
    "\n",
    "2. (5 pts) Your second task is to propose an efficient procedure for computing $\\tilde{Q}, \\tilde{R}$ factors of $\\tilde{A}$ by a proper update of $Q, R$ factors of $A$. \n",
    "\n",
    "Hint: consider the following block partition of $R$ (assuming $k^{th}$ column deleted):\n",
    "$$ R = \n",
    "\\begin{bmatrix} \n",
    "R_{11} & v & R_{13} \\\\\n",
    "0 & r_{kk} & \\omega^T \\\\\n",
    "0 & 0 & R^{33}\n",
    "\\end{bmatrix},\n",
    "$$\n",
    "and note, that:\n",
    "$$Q^T\\tilde{A} = \n",
    "\\begin{bmatrix}\n",
    "R_{11} & R_{13} \\\\\n",
    "0 & \\omega^T \\\\\n",
    "0 & R_{33}\n",
    "\\end{bmatrix} = H.$$\n",
    "\n",
    "- (2 pts) What structure has matrix $H$ and how does it help in understanding the proper way to compute updated QR decomposition?\n",
    "\n",
    "- (3 pts) Implement the function according to the template provided below.\n",
    "Use Givens matrices $G_{ij}$ with $j = i+1$ for the convinience.\n",
    "\n",
    "- Only one loop over non-zero subdiagonal elements of $H$ is allowed. You are supposed to perform computations in a proper vectorized form. For example, the *in-place* multiplication $G_{ij}^T X$ with a random matrix $X \\in \\mathbb{R}^{m \\times n}$ can be implemented as follows: ```X[[i,j],:] = G.T.dot(X[[i,j],:])```. \n",
    "\n",
    "- Do not modify elements which are known to be zero.\n"
   ]
  },
  {
   "cell_type": "markdown",
   "metadata": {},
   "source": [
    "$H$ is constructed by applying consecutive Givens eliminations of elements under the main diagonal."
   ]
  },
  {
   "cell_type": "code",
   "execution_count": 328,
   "metadata": {},
   "outputs": [
    {
     "name": "stdout",
     "output_type": "stream",
     "text": [
      "5.319772748106128e-14\n"
     ]
    }
   ],
   "source": [
    "def delete_column_QR(A, k):\n",
    "    '''\n",
    "    Input: \n",
    "        A: np.array of size (m, n) \n",
    "            \n",
    "        k: positive integer\n",
    "            Index of deleted column, 0 \\leq k \\leq n - 1\n",
    "        \n",
    "    Output: \n",
    "        Q: np.array of size (m, m)\n",
    "        \n",
    "        R: np.array of size (m, n - 1)\n",
    "\n",
    "    '''\n",
    "    Q, R = np.linalg.qr(A, mode='complete') # factors of $A$ are known\n",
    "    R = np.delete(R, k, axis = 1) # delete column\n",
    "\n",
    "    m, n = A.shape[0], A.shape[1]\n",
    "    \n",
    "    for i in range(k, n-2):\n",
    "        j=i+1\n",
    "        if R[[i,j],:][:,i][1] == 0:\n",
    "            break\n",
    "        G = givens(R[[i,j],:][:,i])\n",
    "        \n",
    "        Q[:,[i,j]] = Q[:,[i,j]].dot(G)\n",
    "        R[[i,j],:] = G.T.dot(R[[i,j],:])\n",
    "        \n",
    "        \n",
    "    return Q, R\n",
    "        \n",
    "# Check yourself\n",
    "m, n = (200, 100)\n",
    "A = np.random.rand(m, n)\n",
    "k = np.random.randint(0, n)\n",
    "A_tilde = np.delete(A, k, axis=1)\n",
    "Q_tilde, R_tilde = delete_column_QR(A, k)\n",
    "print(np.linalg.norm(A_tilde - Q_tilde.dot(R_tilde)))"
   ]
  },
  {
   "cell_type": "markdown",
   "metadata": {},
   "source": [
    "3. (3 pts) When a column is inserted, the factors $\\hat{Q}, \\hat{R}$ of $\\hat{A}$ again can be computed efficiently by a proper update of $Q, R$ factors of $A$.\n",
    "\n",
    "\n",
    "- Proceed similarly to the previous task. Implement the function according to the template provided below. \n",
    "\n",
    "- Choose optimal order of elimination to minimize the number of rotations."
   ]
  },
  {
   "cell_type": "code",
   "execution_count": 445,
   "metadata": {},
   "outputs": [
    {
     "name": "stdout",
     "output_type": "stream",
     "text": [
      "5.4774858871975435e-14\n"
     ]
    }
   ],
   "source": [
    "def insert_column_QR(A, k, z):\n",
    "    '''\n",
    "    Input: \n",
    "        A: np.array of size (m, n) \n",
    "            \n",
    "        k: positive integer\n",
    "            Index of inserted column, 0 \\leq k leq n - 1\n",
    "            \n",
    "        z: np.array of size (m)\n",
    "            Inserted column\n",
    "        \n",
    "    Output: \n",
    "        Q: np.array of size (m, m)\n",
    "        \n",
    "        R: np.array of size (m, n + 1)\n",
    "    '''\n",
    "    Q, R = np.linalg.qr(A, mode='complete') # factors of $A$ are known\n",
    "\n",
    "    z = np.dot(Q.T,z)\n",
    "    R = np.insert(R, k, z, axis=1)\n",
    "    \n",
    "    for i in range(A.shape[1]-1, k-1, -1):\n",
    "        j = i+1\n",
    "        if R[[i, j], :][:, k][1] == 0:\n",
    "            break\n",
    "            \n",
    "            \n",
    "        G = givens(R[[i, j], :][:, k])\n",
    "        R[[i, j], :] = np.dot(G.T, R[[i, j], :])\n",
    "        Q[:, [i, j]] = np.dot(Q[:, [i, j]], G)\n",
    "    \n",
    "    return R, Q\n",
    "\n",
    "# Check yourself\n",
    "m, n = (200, 100)\n",
    "A = np.random.rand(m, n)\n",
    "k = np.random.randint(0, n)\n",
    "z = np.random.rand(m)\n",
    "A_hat = np.insert(A, k, z, axis=1)\n",
    "R_hat, Q_hat = insert_column_QR(A, k, z)\n",
    "print(np.linalg.norm(A_hat - Q_hat.dot(R_hat)))"
   ]
  },
  {
   "cell_type": "markdown",
   "metadata": {},
   "source": [
    "4. (3 pts) In the context of least-squares problems, appending rows to a matrix is just as important as inserting columns (e.g. new samples in linear regression).\n",
    "\n",
    "Consider matrix:\n",
    "\n",
    "$$ \\overline{A} = \\begin{bmatrix} \\omega^T \\\\ A \\end{bmatrix} \\in \\mathbb{R}^{(m+1) \\times n},$$\n",
    "\n",
    "which is obtained by appending a row $\\omega^T \\in \\mathbb{R}^{n}$ to the matrix $A$.\n",
    "\n",
    "Similarly to the previous tasks, you need to compute $\\overline{Q}, \\overline{R}$ factors of $\\overline{A}$ by a proper update of $Q,R$ factors of $A$.\n",
    "\n",
    "- Implement the function according to the template provided below. Your code is still expected to be efficient!"
   ]
  },
  {
   "cell_type": "code",
   "execution_count": 449,
   "metadata": {},
   "outputs": [
    {
     "name": "stdout",
     "output_type": "stream",
     "text": [
      "5.179735641750413e-14\n"
     ]
    }
   ],
   "source": [
    "def insert_row_QR(A, w):\n",
    "    '''\n",
    "    Input: \n",
    "        A: np.array of size (m, n)\n",
    "\n",
    "        w: np.array of size (n)\n",
    "            Inserted row\n",
    "        \n",
    "    Output:\n",
    "        Q: np.array of size (m + 1, m + 1)\n",
    "        \n",
    "        R: np.array of size (m + 1, n)\n",
    "    '''\n",
    "    Q, R = np.linalg.qr(A, mode='complete')\n",
    "\n",
    "    # Your code is here\n",
    "    Q = np.insert(Q, 0, np.zeros((1, Q.shape[1])), axis=0)\n",
    "    Q = np.insert(Q, 0, np.eye(Q.shape[0], 1).flatten(), axis=1)\n",
    "    \n",
    "    R = np.insert(R, 0, w, axis=0)\n",
    "    \n",
    "    for i in range(0, R.shape[1] - 1):\n",
    "        j= i +1\n",
    "        if R[[i,j],:][:,i][1] == 0:\n",
    "            break\n",
    "        \n",
    "        G=givens(R[[i, j], :][:, i])\n",
    "        R[[i, j], :] = np.dot(np.transpose(G), R[[i, j], :])\n",
    "        Q[:,[i,j]] = np.dot(Q[:,[i, j]],G)\n",
    "    \n",
    "    return Q, R\n",
    "\n",
    "\n",
    "# Check yourself\n",
    "m, n = (200, 100)\n",
    "A = np.random.rand(m, n)\n",
    "w = np.random.rand(n)\n",
    "Aline = np.insert(A, 0, w, axis=0)\n",
    "Qline, Rline = insert_row_QR(A, w)\n",
    "print(np.linalg.norm(Aline - Qline @ Rline))"
   ]
  },
  {
   "cell_type": "markdown",
   "metadata": {},
   "source": [
    "## Problem 3 (Word2Vec as Matrix Factorization) 45 pts\n",
    "\n",
    "In this assignment you are supposed to apply SVD to training your own [word embedding model](https://en.wikipedia.org/wiki/Word_embedding) which maps English words to vectors of real numbers.\n",
    "\n",
    "Skip-Gram Negative Sampling (SGNS) word embedding model, commonly known as **word2vec** ([Mikolov et al., 2013](http://papers.nips.cc/paper/5021-distributed-representations-of-words-and-phrases-and-their-compositionality.pdf)), is usually optimized by stochastic gradient descent. However, the optimization of SGNS objective can be viewed as implicit matrix factorization objective as was shown in ([Levy and Goldberg, 2015](http://papers.nips.cc/paper/5477-neural-word-embedding-as-implicit-matrix-factorization.pdf))."
   ]
  },
  {
   "cell_type": "markdown",
   "metadata": {},
   "source": [
    "###### 1. Notation\n",
    "Assume we have a text corpus given as a sequence of words $\\{w_1,w_2,\\dots,w_n\\}$ where $n$ may be larger than $10^{12}$ and $w_i \\in \\mathcal{V}$ belongs to a vocabulary of words $\\mathcal{V}$. A word $c \\in \\mathcal{V}$ is called *a context* of word $w_i$ if they are found together in the text. More formally, given some measure $L$ of closeness between two words (typical choice is $L=2$), a word $c \\in \\mathcal{V}$ is called a context if $c \\in \\{w_{i-L}, \\dots, w_{i-1}, w_{i+1}, \\dots, w_{i+L} \\}$ Let $\\mathbf{w},\\mathbf{c}\\in\\mathbb{R}^d$ be the *word embeddings* of word $w$ and context $c$, respectively. Assume they are specified by the mapping  $\\Phi:\\mathcal{V}\\rightarrow\\mathbb{R}^d$, so $\\mathbf{w}=\\Phi(w)$. The ultimate goal of SGNS word embedding model is to fit a good mapping $\\Phi$.\n",
    "\n",
    "Let $\\mathcal{D}$ be a multiset of all word-contexts pairs observed in the corpus. In the SGNS model, the probability that word-context pair $(w,c)$ is observed in the corpus is modeled as the following distribution:\n",
    "\n",
    "$$\n",
    "P(\\#(w,c)\\neq 0|w,c) = \\sigma(\\mathbf{w}^\\top \\mathbf{c}) = \\frac{1}{1 + \\exp(-\\mathbf{w}^\\top \\mathbf{c})},\n",
    "$$\n",
    "\n",
    "where $\\#(w,c)$ is the number of times the pair $(w,c)$ appears in $\\mathcal{D}$ and $\\mathbf{w}^\\top\\mathbf{c}$ is the scalar product of vectors $\\mathbf{w}$ and $\\mathbf{c}$. Two important quantities which we will also use further are the number of times the word $w$ and the context $c$ appear in $\\mathcal{D}$, which can be computed as\n",
    "\n",
    "$$\n",
    "\\#(w) = \\sum_{c\\in\\mathcal{V}} \\#(w,c), \\quad \\#(c) = \\sum_{w\\in\\mathcal{V}} \\#(w,c).\n",
    "$$\n"
   ]
  },
  {
   "cell_type": "markdown",
   "metadata": {},
   "source": [
    "###### 2. Optimization objective"
   ]
  },
  {
   "cell_type": "markdown",
   "metadata": {},
   "source": [
    "Vanilla word embedding models are trained by maximizing log-likelihood of observed word-context pairs, namely\n",
    "\n",
    "$$\n",
    "\\mathcal{L} = \\sum_{w \\in \\mathcal{V}} \\sum_{c \\in \\mathcal{V}} \\#(w,c) \\log \\sigma(\\mathbf{w}^\\top\\mathbf{c}) \\rightarrow \\max_{\\mathbf{w},\\mathbf{c} \\in \\mathbb{R}^d}.\n",
    "$$"
   ]
  },
  {
   "cell_type": "markdown",
   "metadata": {},
   "source": [
    "Skip-Gram Negative Sampling approach modifies the objective by additionally minimizing the log-likelihood of random word-context pairs, so called *negative samples*. This idea incorporates some useful linguistic information that some number ($k$, usually $k=5$) of word-context pairs *are not* found together in the corpus which usually results in word embeddings of higher quality. The resulting optimization problem is\n",
    "\n",
    "$$\n",
    "\\mathcal{L} = \\sum_{w \\in \\mathcal{V}} \\sum_{c \\in \\mathcal{V}} \\left( \\#(w,c) \\log \\sigma(\\mathbf{w}^\\top\\mathbf{c}) + k \\cdot \\mathbb{E}_{c'\\sim P_\\mathcal{D}} \\log \\sigma (-\\mathbf{w}^\\top\\mathbf{c}) \\right) \\rightarrow \\max_{\\mathbf{w},\\mathbf{c} \\in \\mathbb{R}^d},\n",
    "$$\n",
    "\n",
    "where $P_\\mathcal{D}(c)=\\frac{\\#(c)}{|\\mathcal{D}|}$ is a probability distribution over word contexts from which negative samples are drawn."
   ]
  },
  {
   "cell_type": "markdown",
   "metadata": {},
   "source": [
    "[Levy and Goldberg, 2015](http://papers.nips.cc/paper/5477-neural-word-embedding-as-implicit-matrix-factorization.pdf) showed that this objective can be equivalently written as\n",
    "\n",
    "$$\n",
    "\\mathcal{L} = \\sum_{w \\in \\mathcal{V}} \\sum_{c \\in \\mathcal{V}} f(w,c) = \\sum_{w \\in \\mathcal{V}} \\sum_{c \\in \\mathcal{V}} \\left( \\#(w,c) \\log \\sigma(\\mathbf{w}^\\top\\mathbf{c}) + \\frac{k\\cdot\\#(w)\\cdot\\#(c)}{|\\mathcal{D}|} \\log \\sigma (-\\mathbf{w}^\\top\\mathbf{c}) \\right) \\rightarrow \\max_{\\mathbf{w},\\mathbf{c} \\in \\mathbb{R}^d},\n",
    "$$\n",
    "\n",
    "A crucial observation is that this loss function depends only on the scalar product $\\mathbf{w}^\\top\\mathbf{c}$ but not on embedding $\\mathbf{w}$ and $\\mathbf{c}$ separately."
   ]
  },
  {
   "cell_type": "markdown",
   "metadata": {},
   "source": [
    "###### 3. Matrix factorization problem statement"
   ]
  },
  {
   "cell_type": "markdown",
   "metadata": {},
   "source": [
    "Let $|\\mathcal{V}|=m$, $W \\in \\mathbb{R}^{m\\times d}$ and $C \\in \\mathbb{R}^{m\\times d}$ be matrices, where each row $\\mathbf{w}\\in\\mathbb{R}^d$ of matrix $W$ is the word embedding of the corresponding word $w$ and each row $\\mathbf{c}\\in\\mathbb{R}^d$ of matrix $C$ is the context embedding of the corresponding context $c$. SGNS embeds both words and their contexts into a low-dimensional space $\\mathbb{R}^d$, resulting in the word and context matrices $W$ and $C$. The rows of matrix $W$ are typically used in NLP tasks (such as computing word similarities) while $C$ is ignored. It is nonetheless instructive to consider the product $W^\\top C = M$. Viewed this way, SGNS can be described as factorizing an implicit matrix $M$ of dimensions $m \\times m$ into two smaller matrices.\n",
    "\n",
    "Which matrix is being factorized? A matrix entry $M_{wc}$ corresponds to the dot product $\\mathbf{w}^\\top\\mathbf{c}$ . Thus, SGNS is factorizing a matrix in which each row corresponds to a word $w \\in \\mathcal{V}$ , each column corresponds to a context $c \\in \\mathcal{V}$, and each cell contains a quantity $f(w,c)$ reflecting the strength of association between that particular word-context pair. Such word-context association matrices are very common in the NLP and word-similarity literature. That said, the objective of SGNS does not explicitly state what this association metric is. What can we say about the association function $f(w,c)$? In other words, which matrix is SGNS factorizing? Below you will find the answers."
   ]
  },
  {
   "cell_type": "markdown",
   "metadata": {},
   "source": [
    "### Task 1 (theoretical) 9 pts"
   ]
  },
  {
   "cell_type": "markdown",
   "metadata": {},
   "source": [
    "Solve SGNS optimization problem with respect to the $\\mathbf{w}^\\top\\mathbf{c}$ and show that the matrix being factorized is\n",
    "\n",
    "$$\n",
    "M_{wc} = \\mathbf{w}^\\top\\mathbf{c} = \\log \\left( \\frac{\\#(w,c) \\cdot |\\mathcal{D}|}{k\\cdot\\#(w)\\cdot\\#(c)} \\right)\n",
    "$$\n",
    "\n",
    "**Hint:** Denote $x=\\mathbf{w}^\\top\\mathbf{c}$, rewrite SGNG optimization problem in terms of $x$ and solve it."
   ]
  },
  {
   "cell_type": "markdown",
   "metadata": {},
   "source": [
    "**Note:** This matrix is called Shifted Pointwise Mutual Information (SPMI) matrix, as its elements can be written as\n",
    "\n",
    "$$\n",
    "\\text{SPMI}(w,c) = M_{wc} = \\mathbf{w}^\\top\\mathbf{c} = \\text{PMI}(w,c) - \\log k\n",
    "$$\n",
    "\n",
    "and $\\text{PMI}(w,c) = \\log \\left( \\frac{\\#(w,c) \\cdot |\\mathcal{D}|}{\\#(w)\\cdot\\#(c)} \\right)$ is the well-known [pointwise mutual information](https://en.wikipedia.org/wiki/Pointwise_mutual_information) of $(w,c)$."
   ]
  },
  {
   "cell_type": "markdown",
   "metadata": {},
   "source": [
    "$$\n",
    "\\mathcal{L} = \\sum_{w \\in \\mathcal{V}} \\sum_{c \\in \\mathcal{V}} f(w,c) = \\sum_{w \\in \\mathcal{V}} \\sum_{c \\in \\mathcal{V}} \\left( \\#(w,c) \\log \\sigma(\\mathbf{w}^\\top\\mathbf{c}) + \\frac{k\\cdot\\#(w)\\cdot\\#(c)}{|\\mathcal{D}|} \\log \\sigma (-\\mathbf{w}^\\top\\mathbf{c}) \\right) \\rightarrow \\max_{\\mathbf{w},\\mathbf{c} \\in \\mathbb{R}^d} \n",
    "$$\n",
    "\n",
    "$$\n",
    "\\mathcal{L} = \\sum_{w \\in \\mathcal{V}} \\sum_{c \\in \\mathcal{V}} f(x) = \\sum_{w \\in \\mathcal{V}} \\sum_{c \\in \\mathcal{V}} \\left( \\#(w,c) \\log \\sigma(x) + \\frac{k\\cdot\\#(w)\\cdot\\#(c)}{|\\mathcal{D}|} \\log \\sigma (x) \\right) \\rightarrow \\max_{x \\in \\mathbb{R}}\n",
    "$$"
   ]
  },
  {
   "cell_type": "markdown",
   "metadata": {},
   "source": [
    "Now let's consider a specific x and rewrite the expression above as:\n",
    "$$\n",
    "l(x) = \\# (w, c) \\log \\sigma(x) + \\frac{k\\cdot\\#(w)\\cdot\\#(c)}{|\\mathcal{D}|} \\log \\sigma(x) \n",
    "$$\n",
    "and then find its partial derivative with respect to x and equalize it to 0, as we are trying to solve an optimization problem.\n",
    "$$\n",
    "\\frac{\\partial l}{\\partial x} = \\# (w, c) \\cdot \\sigma(-x) - \\frac{k\\cdot\\#(w)\\cdot\\#(c)}{|\\mathcal{D}|}\\cdot \\sigma(x) = 0\n",
    "$$\n"
   ]
  },
  {
   "cell_type": "markdown",
   "metadata": {},
   "source": [
    "$$\n",
    "\\frac{\\#(w,c)}{1 + e^x} - \\frac{k\\cdot\\#(w)\\cdot\\#(c)}{|\\mathcal{D}|(1 + e^{-x})}  = 0\n",
    "$$"
   ]
  },
  {
   "cell_type": "markdown",
   "metadata": {},
   "source": [
    "Then after we solve, we get:\n",
    "$$\n",
    "e^{2x} - \\left( \\frac{\\#(w,c) |\\mathcal{D}|}{k \\#(w) \\#(c)} - 1\\right)e^x - \\frac{\\#(w,c)|\\mathcal{D}|}{k \\cdot \\#(w) \\#(c)} = 0\n",
    "$$"
   ]
  },
  {
   "cell_type": "markdown",
   "metadata": {},
   "source": [
    "Which has solution:\n",
    "$$\n",
    "e^x = \\frac{\\#(w,c) |D|}{ \\#(w) \\#(c)}\\cdot \\frac{1}{k}\n",
    "$$\n",
    "Substituting the $x$ with $\\mathbf{w}^\\top \\mathbf{c}$ and logarithming..\n",
    "$$\n",
    "\\mathbf{w}^\\top \\mathbf{c} = \\log\\frac{\\#(w,c) |D|}{k \\#(w) \\#(c)}\n",
    "$$"
   ]
  },
  {
   "cell_type": "markdown",
   "metadata": {},
   "source": [
    "$\\QED$"
   ]
  },
  {
   "cell_type": "markdown",
   "metadata": {},
   "source": [
    "### Task 2 (practical) 36 pts"
   ]
  },
  {
   "cell_type": "code",
   "execution_count": 264,
   "metadata": {},
   "outputs": [],
   "source": [
    "import os\n",
    "import numpy as np\n",
    "from sklearn.metrics.pairwise import cosine_similarity\n",
    "from scipy.sparse.linalg import svds"
   ]
  },
  {
   "cell_type": "markdown",
   "metadata": {},
   "source": [
    "1. Download dataset [enwik8](http://mattmahoney.net/dc/enwik8.zip) of compressed Wikipedia articles and preprocess raw data with Perl script **main_.pl**. This script will clean all unnecessary symbols, make all words to lowercase, and produce only sentences with words. If you are Windows user, you can install [linux subsystem in windows](https://www.microsoft.com/en-us/p/ubuntu-1804-lts/9n9tngvndl3q?activetab=pivot:overviewtab) and run all these bash commands from ubuntu console (it was checked on the Windows and it works). Also, you can just download file from this [link](https://nla.skoltech.ru/homeworks/files/enwik8.txt).\n",
    "```\n",
    "wget http://mattmahoney.net/dc/enwik8.zip\n",
    "unzip enwik8.zip\n",
    "mkdir data\n",
    "perl main_.pl enwik8 > data/enwik8.txt\n",
    "```"
   ]
  },
  {
   "cell_type": "code",
   "execution_count": 265,
   "metadata": {},
   "outputs": [],
   "source": [
    "# Load enwik 8\n",
    "\n",
    "import re\n",
    "file = open(\"data/enwik8.txt\", \"r\")\n",
    "doclist = [line for line in file]\n",
    "docstr = ''.join(doclist)\n",
    "sentences = re.split(r'[.!?]', docstr)\n",
    "sentences = [sentence.split() for sentence in sentences if len(sentence) > 1]"
   ]
  },
  {
   "cell_type": "code",
   "execution_count": 266,
   "metadata": {
    "scrolled": true
   },
   "outputs": [
    {
     "name": "stdout",
     "output_type": "stream",
     "text": [
      "['achilles', 'wrath', 'is', 'terrible', 'and', 'he', 'slays', 'many', 'trojan', 'warriors', 'and', 'allies', 'including', 'priam', 's', 'son', 'lycaon', 'whom', 'achilles', 'had', 'previously', 'captured', 'and', 'sold', 'into', 'slavery', 'but', 'who', 'had', 'been', 'returned', 'to', 'troy']\n"
     ]
    }
   ],
   "source": [
    "print (sentences[1249])"
   ]
  },
  {
   "cell_type": "markdown",
   "metadata": {},
   "source": [
    "2. Construct the word vocabulary from the obtained sentences which enumerates words which occur more than $r=200$ times in the corpus."
   ]
  },
  {
   "cell_type": "code",
   "execution_count": 305,
   "metadata": {},
   "outputs": [],
   "source": [
    "def create_vocabulary(sentences, r=200):\n",
    "    fig = {}\n",
    "    for sentence in sentences:\n",
    "        for word in sentence:\n",
    "            if word not in fig:\n",
    "                fig[word] = 1\n",
    "            else:\n",
    "                fig[word] += 1\n",
    "    vocabulary = {k:v for k,v in zip(fig.keys(), fig.values()) if v > r }\n",
    "    vocabulary = {k:i for i,k in enumerate(vocabulary.keys()) }\n",
    "    return vocabulary"
   ]
  },
  {
   "cell_type": "code",
   "execution_count": 306,
   "metadata": {},
   "outputs": [],
   "source": [
    "vocab = create_vocabulary(sentences)"
   ]
  },
  {
   "cell_type": "markdown",
   "metadata": {},
   "source": [
    "3. Scan the text corpus with sliding window of size $5$ and step $1$ (which corresponds to $L$=2) and construct co-occurrence word-context matrix $D$ with elements $D_{wc}=\\#(w,c)$. Please, ignore words which occur less than $r=200$ times, but include them into the sliding window. Please, see the graphical illustration of the procedure described."
   ]
  },
  {
   "cell_type": "markdown",
   "metadata": {},
   "source": [
    "![Sliding window](sliding_window.png)"
   ]
  },
  {
   "cell_type": "code",
   "execution_count": 319,
   "metadata": {},
   "outputs": [],
   "source": [
    "from scipy.sparse import csr_matrix"
   ]
  },
  {
   "cell_type": "code",
   "execution_count": 317,
   "metadata": {},
   "outputs": [],
   "source": [
    "def create_corpus_matrix(sentences, vocabulary, L=2):\n",
    "    D = np.zeros((len(vocabulary), len(vocabulary)))\n",
    "    for sentence in sentences:\n",
    "        for i, word in enumerate(sentence):\n",
    "            if word in vocabulary:\n",
    "                leftside = max(0, i - L)\n",
    "                rightside = min(len(sentence), i + L)\n",
    "                for fig in sentence[leftside:i] + sentence[i+1:rightside]:\n",
    "                    if fig in vocabulary:\n",
    "                        D[vocabulary[word], vocabulary[fig]] += 1\n",
    "    return D"
   ]
  },
  {
   "cell_type": "code",
   "execution_count": 318,
   "metadata": {},
   "outputs": [],
   "source": [
    "D = create_corpus_matrix(sentences, vocab)"
   ]
  },
  {
   "cell_type": "markdown",
   "metadata": {},
   "source": [
    "4. To find good word embeddings, [Levy and Goldberg, 2015](http://papers.nips.cc/paper/5477-neural-word-embedding-as-implicit-matrix-factorization.pdf) proposed to find rank-$d$ SVD of Shifted Positive Pointwise Mutual Information (SPPMI) matrix\n",
    "\n",
    "$$ U \\Sigma V^\\top \\approx \\text{SPPMI}, $$\n",
    "\n",
    "where $\\text{SPPMI}(w, c) = \\max\\left(\\text{SPMI}(w, c), 0 \\right)$ and $\\text{SPMI}(w, c)$ is the element of the matrix $\\text{SPPMI}$ at position $(w, c)$.\n",
    "Then use $W=U\\sqrt{\\Sigma}$ as word embedding matrix. Your task is to reproduce their results. Write function constructs $\\text{SPPMI}$ matrix, computes its SVD and produces word-vectors matrix $W$. Pay attention that $\\text{SPPMI}$ matrix is **sparse**!  "
   ]
  },
  {
   "cell_type": "code",
   "execution_count": 424,
   "metadata": {},
   "outputs": [],
   "source": [
    "def compute_embeddings(D, k, d=200):\n",
    "    #shape = np.count_nonzero(D)\n",
    "    shape = D.shape[0]*D.shape[1]\n",
    "    w = np.array([np.sum(D[i]) for i in range(D.shape[0])])\n",
    "    c = np.array([np.sum(D[:,j]) for j in range(D.shape[1])])\n",
    "    pmi = np.log((D * shape)/(w*c))\n",
    "    spmi = pmi - np.log(k)\n",
    "    sppmi = np.maximum(spmi, 0)\n",
    "    sparse_sppmi = csr_matrix(sppmi)\n",
    "    u, s, vt = svds(sparse_sppmi, d)\n",
    "    embedding_matrix = u @ np.sqrt(np.diag(s))\n",
    "    return embedding_matrix"
   ]
  },
  {
   "cell_type": "code",
   "execution_count": 425,
   "metadata": {},
   "outputs": [
    {
     "name": "stderr",
     "output_type": "stream",
     "text": [
      "/anaconda3/lib/python3.7/site-packages/ipykernel_launcher.py:6: RuntimeWarning: divide by zero encountered in log\n",
      "  \n"
     ]
    }
   ],
   "source": [
    "k = 5 # negative sampling parameter\n",
    "W = compute_embeddings(D, k)"
   ]
  },
  {
   "cell_type": "code",
   "execution_count": 426,
   "metadata": {},
   "outputs": [
    {
     "name": "stdout",
     "output_type": "stream",
     "text": [
      "(5758, 200)\n"
     ]
    }
   ],
   "source": [
    "print(W.shape)"
   ]
  },
  {
   "cell_type": "markdown",
   "metadata": {},
   "source": [
    "5. Write class **WordVectors** using provided template."
   ]
  },
  {
   "cell_type": "code",
   "execution_count": 428,
   "metadata": {},
   "outputs": [],
   "source": [
    "class WordVectors:\n",
    "    \n",
    "    def __init__(self, vocabulary, embedding_matrix):\n",
    "        self.vocab = vocabulary\n",
    "        self.W = embedding_matrix\n",
    "        self.inv_vocab = {v: k for k, v in self.vocab.items()}\n",
    "        \n",
    "    def word_vector(self, word):\n",
    "        \"\"\" \n",
    "        Takes word and returns its word vector.\n",
    "        \"\"\"\n",
    "        word_vector = self.W[self.vocab[word]]\n",
    "        return word_vector\n",
    "    \n",
    "    def nearest_words(self, word, top_n=10):\n",
    "        \"\"\" \n",
    "        Takes word from the vocabulary and returns its top_n\n",
    "        nearest neighbors in terms of cosine similarity.\n",
    "        \"\"\"\n",
    "        sims = cosine_similarity(np.array([self.word_vector(word)]), self.W)[0]\n",
    "        topsims = np.argsort(sims)[(-top_n - 1):-1][::-1]\n",
    "        neighbors = list([(self.inv_vocab[i], sims[i]) for i in topsims])\n",
    "        \n",
    "        return neighbors"
   ]
  },
  {
   "cell_type": "code",
   "execution_count": 429,
   "metadata": {},
   "outputs": [],
   "source": [
    "model = WordVectors(vocab, W)"
   ]
  },
  {
   "cell_type": "code",
   "execution_count": 430,
   "metadata": {},
   "outputs": [
    {
     "data": {
      "text/plain": [
       "[('capitalism', 0.6628587946695743),\n",
       " ('anarcho', 0.6436843389133485),\n",
       " ('communism', 0.6320167777958288),\n",
       " ('liberalism', 0.5883967022199641),\n",
       " ('socialism', 0.5855042706516711),\n",
       " ('marxist', 0.4807337185959857),\n",
       " ('socialist', 0.4666056703274641),\n",
       " ('ideology', 0.4630711206046267),\n",
       " ('capitalist', 0.46252408177460386),\n",
       " ('communist', 0.46044248500948226)]"
      ]
     },
     "execution_count": 430,
     "metadata": {},
     "output_type": "execute_result"
    }
   ],
   "source": [
    "model.nearest_words(\"anarchism\")"
   ]
  },
  {
   "cell_type": "code",
   "execution_count": 431,
   "metadata": {},
   "outputs": [
    {
     "data": {
      "text/plain": [
       "[('ukraine', 0.5398198257790201),\n",
       " ('belarus', 0.538953875425791),\n",
       " ('romania', 0.5008682893733978),\n",
       " ('russia', 0.49547296889876213),\n",
       " ('poland', 0.4774693152466892),\n",
       " ('serbia', 0.4759393363088515),\n",
       " ('portugal', 0.4728961868222915),\n",
       " ('austria', 0.4607800966732226),\n",
       " ('belgium', 0.42371915397711446),\n",
       " ('turkey', 0.42124383118991193)]"
      ]
     },
     "execution_count": 431,
     "metadata": {},
     "output_type": "execute_result"
    }
   ],
   "source": [
    "model.nearest_words(\"ussr\")"
   ]
  },
  {
   "cell_type": "code",
   "execution_count": 432,
   "metadata": {},
   "outputs": [
    {
     "data": {
      "text/plain": [
       "[('hop', 0.7509104656520637),\n",
       " ('funk', 0.7020949501709914),\n",
       " ('pop', 0.6929817872257655),\n",
       " ('jazz', 0.6902420538024463),\n",
       " ('music', 0.6682997590752675),\n",
       " ('hip', 0.6660924428255084),\n",
       " ('rock', 0.6533749371266447),\n",
       " ('albums', 0.6138143292890212),\n",
       " ('punk', 0.6101197054799008),\n",
       " ('bands', 0.5998194615106156)]"
      ]
     },
     "execution_count": 432,
     "metadata": {},
     "output_type": "execute_result"
    }
   ],
   "source": [
    "model.nearest_words(\"rap\")"
   ]
  },
  {
   "cell_type": "markdown",
   "metadata": {},
   "source": [
    "6. Calculate top 10 nearest neighbours with the corresponding cosine similarities for the words {matrix, multiplication, algorithm} and print them below"
   ]
  },
  {
   "cell_type": "code",
   "execution_count": 433,
   "metadata": {},
   "outputs": [
    {
     "data": {
      "text/plain": [
       "[('graph', 0.4358449063809289),\n",
       " ('euclidean', 0.36973413549343753),\n",
       " ('integral', 0.365902144516886),\n",
       " ('linear', 0.3629592283902699),\n",
       " ('structure', 0.3547791075201616),\n",
       " ('topology', 0.3497818537267697),\n",
       " ('loop', 0.3479785687611838),\n",
       " ('geometry', 0.3375408185260426),\n",
       " ('shape', 0.3297451000001331),\n",
       " ('finite', 0.32578831405683983)]"
      ]
     },
     "execution_count": 433,
     "metadata": {},
     "output_type": "execute_result"
    }
   ],
   "source": [
    "model.nearest_words('matrix')"
   ]
  },
  {
   "cell_type": "code",
   "execution_count": 434,
   "metadata": {},
   "outputs": [
    {
     "data": {
      "text/plain": [
       "[('polynomial', 0.5767945248583597),\n",
       " ('linear', 0.5727183590266266),\n",
       " ('algorithm', 0.5235437161733345),\n",
       " ('algebra', 0.5044142186404963),\n",
       " ('equations', 0.4852015870196088),\n",
       " ('geometric', 0.4728371411592533),\n",
       " ('algebraic', 0.46734408297303465),\n",
       " ('algorithms', 0.46472704729815384),\n",
       " ('equation', 0.4642218180341195),\n",
       " ('integer', 0.459539098977364)]"
      ]
     },
     "execution_count": 434,
     "metadata": {},
     "output_type": "execute_result"
    }
   ],
   "source": [
    "model.nearest_words('multiplication')"
   ]
  },
  {
   "cell_type": "code",
   "execution_count": 435,
   "metadata": {},
   "outputs": [
    {
     "data": {
      "text/plain": [
       "[('algorithms', 0.5893451098691977),\n",
       " ('coding', 0.5372264728117213),\n",
       " ('multiplication', 0.5235437161733345),\n",
       " ('geometric', 0.500172547510755),\n",
       " ('polynomial', 0.4979554406715785),\n",
       " ('arithmetic', 0.49645465219755297),\n",
       " ('graph', 0.48494994223833804),\n",
       " ('equation', 0.4831523012818017),\n",
       " ('algebra', 0.4813582587836348),\n",
       " ('linear', 0.48092595243387276)]"
      ]
     },
     "execution_count": 435,
     "metadata": {},
     "output_type": "execute_result"
    }
   ],
   "source": [
    "model.nearest_words('algorithm')"
   ]
  },
  {
   "cell_type": "markdown",
   "metadata": {},
   "source": [
    "# Problem 4 (eigenvalues)  45 pts\n",
    "\n",
    "### 1. Theoretical tasks (10 pts)\n",
    "\n",
    "* (5 pts) Prove that normal matrix is Hermitian iff its eigenvalues are real. Prove that normal matrix is unitary iff its eigenvalues satisfy $|\\lambda| = 1$. \n",
    "\n",
    "* (5 pts) The following problem illustrates instability of the Jordan form. Find theoretically the eigenvalues of the perturbed Jordan block:\n",
    "\n",
    "$$\n",
    "    J(\\varepsilon) = \n",
    "    \\begin{bmatrix} \n",
    "     \\lambda & 1 & & & 0 \\\\ \n",
    "     & \\lambda & 1 & & \\\\ \n",
    "     &  & \\ddots & \\ddots & \\\\ \n",
    "     & & & \\lambda & 1 \\\\ \n",
    "     \\varepsilon & & & & \\lambda  \\\\ \n",
    "    \\end{bmatrix}_{n\\times n}\n",
    "$$\n",
    "\n",
    "Comment how eigenvalues of $J(0)$ are perturbed for large $n$."
   ]
  },
  {
   "cell_type": "markdown",
   "metadata": {},
   "source": [
    "4.1.1.\n",
    "$\\Longrightarrow$\n",
    "If the matrix is normal, it is representable as \n",
    "$$\n",
    "A = U \\Lambda U^*\n",
    "$$\n",
    "\n",
    "Then, if it is Hermitian\n",
    "$$\n",
    "A^* = A \\\\\n",
    "U \\Lambda^* U^* = U \\Lambda U^*\\\\\n",
    "\\Lambda^* = \\Lambda\n",
    "$$\n",
    "\n",
    "Therefore, eigenvalues are real.\n",
    "\n",
    "$\\Longleftarrow$\n",
    "If its eigenvalues are real:\n",
    "$$\n",
    "\\Lambda = \\Lambda^*\\\\\n",
    "U\\Lambda U^* = U \\Lambda^* U^*\\\\\n",
    "A = A^*\n",
    "$$\n",
    "Therefore, it is Hermitian.\n",
    "\n",
    "$\\Longrightarrow$\n",
    "If it is unitary\n",
    "$$\n",
    "A^*A = I\\\\\n",
    "\\Lambda^* \\Lambda = I\\\\\n",
    "$$\n",
    "Therefore, $\\|\\lambda\\|$ should be equal to one.\n",
    "$\\Longleftarrow$\n",
    "If the eigenvalues satisfy $\\|\\lambda\\| = 1$, then\n",
    "$$\n",
    "\\Lambda^* \\Lambda = I\n",
    "$$\n",
    "because of the definition of the modulus of the complex number."
   ]
  },
  {
   "cell_type": "markdown",
   "metadata": {},
   "source": [
    "4.1.2.\n",
    "$$\n",
    "\\det (J(\\varepsilon)- \\lambda_0 I) = (\\lambda - \\lambda_0)^n + (-1)^{n+1} \\varepsilon (1^n) = 0\\\\\n",
    "\\lambda - \\lambda_0 = \\sqrt[n]{(-1)^{n+1} \\varepsilon} =  \\sqrt[n]\\varepsilon\n",
    "$$\n",
    "If $\\varepsilon$ is less than 1, then for large n our eigenvalues would rise quite a lot comparing to the value of $\\varepsilon$, becoming larger and larger up to $\\lambda + 1$.\n"
   ]
  },
  {
   "cell_type": "markdown",
   "metadata": {},
   "source": [
    "### 2. PageRank\n",
    "\n",
    "\n",
    "#### Damping factor importance\n",
    "\n",
    "* (5 pts) Write the function ```pagerank_matrix(G)``` that takes an adjacency matrix $G$ (in both sparse and dense formats) as an input and outputs the corresponding PageRank matrix $A$."
   ]
  },
  {
   "cell_type": "code",
   "execution_count": 437,
   "metadata": {},
   "outputs": [],
   "source": [
    "from scipy.sparse import issparse"
   ]
  },
  {
   "cell_type": "code",
   "execution_count": 441,
   "metadata": {},
   "outputs": [],
   "source": [
    "# INPUT:  G - np.ndarray or sparse matrix\n",
    "# OUTPUT: A - np.ndarray (of size G.shape) or sparse matrix\n",
    "def pagerank_matrix(G):\n",
    "    # enter your code here\n",
    "    if issparse(G):\n",
    "        G = np.transpose(G)\n",
    "        diag = np.ravel(np.asarray(G.astype(float).sum(axis=1)))\n",
    "        diag = [a**(-1.0) if a != 0 else 1 for a in diag]\n",
    "        return np.dot(np.transpose(G), diags(diag, 0))\n",
    "    \n",
    "    A = np.array(G, dtype=float).copy()\n",
    "    for i in range(G.shape[0]):\n",
    "        row_sum = (G[np.nonzero(G[:, i])[0], i]).sum()\n",
    "        if row_sum == 0:\n",
    "            A[:, i] = G.shape[0]**(-1.0)\n",
    "        else:\n",
    "            A[np.nonzero(G[:, i])[0], i] = row_sum**(-1.0)\n",
    "    return A"
   ]
  },
  {
   "cell_type": "markdown",
   "metadata": {},
   "source": [
    "* (3 pts) Find PageRank matrix $A$ that corresponds to the following graph: <img src=\"graph.png\" width='250'>\n",
    "What is its largest eigenvalue? What multiplicity does it have?\n",
    "\n",
    "\n",
    "* (5 pts) Implement the power method for a given matrix $A$, an initial guess $x_0$ and a number of iterations ```num_iter```. It should be organized as a function ```power_method(A, x0, num_iter)``` that outputs approximation to eigenvector $x$, eigenvalue $\\lambda$ and history of residuals $\\{\\|Ax_k - \\lambda_k x_k\\|_2\\}$. Make sure that the method converges to the correct solution on a matrix $\\begin{bmatrix} 2 & -1 \\\\ -1 & 2 \\end{bmatrix}$ which is known to have the largest eigenvalue equal to $3$."
   ]
  },
  {
   "cell_type": "code",
   "execution_count": 582,
   "metadata": {},
   "outputs": [
    {
     "name": "stdout",
     "output_type": "stream",
     "text": [
      "[[0.  0.  0.5 0.  0. ]\n",
      " [1.  0.  0.5 0.  0. ]\n",
      " [0.  1.  0.  0.  0. ]\n",
      " [0.  0.  0.  0.  1. ]\n",
      " [0.  0.  0.  1.  0. ]]\n",
      "[-0.5+0.5j -0.5-0.5j  1. +0.j   1. +0.j  -1. +0.j ]\n"
     ]
    }
   ],
   "source": [
    "G = np.array([[0, 0, 1, 0, 0],\n",
    "               [1, 0, 1, 0, 0],\n",
    "               [0, 1, 0, 0, 0],\n",
    "               [0, 0, 0, 0, 1],\n",
    "               [0, 0, 0, 1, 0]])\n",
    "\n",
    "A = pagerank_matrix(G)\n",
    "print(A)\n",
    "print(np.linalg.eigvals(A))"
   ]
  },
  {
   "cell_type": "markdown",
   "metadata": {},
   "source": [
    "Largest eigenvalue of A is 1, its multiplicity is 2."
   ]
  },
  {
   "cell_type": "code",
   "execution_count": 577,
   "metadata": {},
   "outputs": [],
   "source": [
    "# INPUT:  A - np.ndarray (2D), x0 - np.ndarray (1D), num_iter - integer (positive) \n",
    "# OUTPUT: x - np.ndarray (of size x0), l - float, res - np.ndarray (of size num_iter + 1 [include initial guess])\n",
    "def power_method(A, x0, num_iter): # 5 pts\n",
    "    # enter your code here\n",
    "    x_k = x0.copy()\n",
    "    x_kplus1 = A.dot(x_k)\n",
    "    x_kplus1 /= np.linalg.norm(x_kplus1)\n",
    "    res = []\n",
    "    for i in range(num_iter):\n",
    "        x_kplus1 = A.dot(x_kplus1)\n",
    "        x_kplus1/=np.linalg.norm(x_kplus1)\n",
    "        fig = A.dot(x_kplus1)\n",
    "        l = np.dot(fig.T, x_kplus1)\n",
    "        res.append(np.linalg.norm(fig - l * x_kplus1))\n",
    "  \n",
    "    return x_kplus1, l, res"
   ]
  },
  {
   "cell_type": "markdown",
   "metadata": {},
   "source": [
    "* (2 pts) Run the power method for the graph presented above and plot residuals $\\|Ax_k - \\lambda_k x_k\\|_2$ as a function of $k$ for ```num_iter=100``` and random initial guess ```x0```.  Explain the absence of convergence. \n",
    "\n",
    "\n",
    "* (2 pts) Consider the same graph, but with additional self loop at node 4 (self loop is an edge that connects a vertex with itself). Plot residuals as in the previous task and discuss the convergence. Now, run the power method with ```num_iter=100``` for 10 different initial guesses and print/plot the resulting approximated eigenvectors. Why do they depend on the initial guess?\n",
    "\n",
    "\n",
    "In order to avoid this problem Larry Page and Sergey Brin [proposed](http://ilpubs.stanford.edu:8090/422/1/1999-66.pdf) to use the following regularization technique:\n",
    "\n",
    "$$\n",
    "A_d = dA + \\frac{1-d}{N} \\begin{pmatrix} 1 & \\dots & 1 \\\\ \\vdots & & \\vdots \\\\ 1 & \\dots & 1 \\end{pmatrix},\n",
    "$$\n",
    "\n",
    "where $d$ is a small parameter in $[0,1]$ (typically $d=0.85$), which is called **damping factor**, $A$ is of size $N\\times N$. Now $A_d$ is the matrix with multiplicity of the largest eigenvalue equal to 1. \n",
    "Recall that computing the eigenvector of the PageRank matrix, which corresponds to the largest eigenvalue, has the following interpretation. Consider a person who stays in a random node of a graph (i.e. opens a random web page); at each step s/he follows one of the outcoming edges uniformly at random (i.e. opens one of the links). So the person randomly walks through the graph and the eigenvector we are looking for is exactly his/her stationary distribution â€” for each node it tells you the probability of visiting this particular node. Therefore, if the person has started from a part of the graph which is not connected with the other part, he will never get there.  In the regularized model, the person at each step follows one of the outcoming links with probability $d$ OR teleports to a random node from the whole graph with probability $(1-d)$.\n",
    "\n",
    "* (2 pts) Now, run the power method with $A_d$ and plot residuals $\\|A_d x_k - \\lambda_k x_k\\|_2$ as a function of $k$ for $d=0.97$, ```num_iter=100``` and a random initial guess ```x0```.\n",
    "\n",
    "* (5 pts) Find the second largest in the absolute value eigenvalue of the obtained matrix $A_d$. How and why is it connected to the damping factor $d$? What is the convergence rate of the PageRank algorithm when using damping factor?\n",
    "\n",
    "Usually, graphs that arise in various areas are sparse (social, web, road networks, etc.) and, thus, computation of a matrix-vector product for corresponding PageRank matrix $A$ is much cheaper than $\\mathcal{O}(N^2)$. However, if $A_d$ is calculated directly, it becomes dense and, therefore, $\\mathcal{O}(N^2)$ cost grows prohibitively large for  big $N$.\n",
    "\n",
    "\n",
    "* (2 pts) Implement fast matrix-vector product for $A_d$ as a function ```pagerank_matvec(A, d, x)```, which takes a PageRank matrix $A$ (in sparse format, e.g., ```csr_matrix```), damping factor $d$ and a vector $x$ as an input and returns $A_dx$ as an output. \n",
    "\n",
    "* (1 pts) Generate a random adjacency matrix of size $10000 \\times 10000$ with only 100 non-zero elements and compare ```pagerank_matvec``` performance with direct evaluation of $A_dx$."
   ]
  },
  {
   "cell_type": "code",
   "execution_count": 578,
   "metadata": {},
   "outputs": [
    {
     "data": {
      "image/png": "[encoded data removed]",
      "text/plain": [
       "<Figure size 720x432 with 1 Axes>"
      ]
     },
     "metadata": {
      "needs_background": "light"
     },
     "output_type": "display_data"
    }
   ],
   "source": [
    "x, l, res = power_method(A, np.random.rand(A.shape[0]), 100)\n",
    "plt.figure(figsize = (10,6))\n",
    "plt.semilogy(res/res[0], label = 'residual norm', marker = 'o', markersize=3, c='r')\n",
    "plt.grid()\n",
    "plt.xlabel('k')\n",
    "plt.legend()\n",
    "plt.ylabel('$\\|\\|Ax_{k+1} - \\lambda^{(k+1) x_{k+1}}\\|\\|$');"
   ]
  },
  {
   "cell_type": "markdown",
   "metadata": {},
   "source": [
    "The convergence is highly dependent on the $q$, being $q^k$ where $q = \\left|\\frac{\\lambda_{2}}{\\lambda_{1}}\\right| < 1$, for $\\lambda_1>\\lambda_2\\geq\\dots\\geq \\lambda_n$ and $k$ is the number of iteration. As $\\lambda_2 = \\lambda_1$, and $q = 1$ the power method diverges."
   ]
  },
  {
   "cell_type": "code",
   "execution_count": 584,
   "metadata": {},
   "outputs": [
    {
     "name": "stdout",
     "output_type": "stream",
     "text": [
      "[[0.  0.  0.5 0.  0. ]\n",
      " [1.  0.  0.5 0.  0. ]\n",
      " [0.  1.  0.  0.  0. ]\n",
      " [0.  0.  0.  0.  0.5]\n",
      " [0.  0.  0.  1.  0.5]]\n",
      "[-0.5+0.5j -0.5-0.5j  1. +0.j  -0.5+0.j   1. +0.j ]\n"
     ]
    }
   ],
   "source": [
    "G_p = np.array([[0, 0, 1, 0, 0],\n",
    "                [1, 0, 1, 0, 0],\n",
    "                [0, 1, 0, 0, 0],\n",
    "                [0, 0, 0, 0, 1],\n",
    "                [0, 0, 0, 1, 1]])\n",
    "\n",
    "A_p = pagerank_matrix(G_p)\n",
    "print(A_p)\n",
    "print(np.linalg.eigvals(A_p))"
   ]
  },
  {
   "cell_type": "code",
   "execution_count": 585,
   "metadata": {},
   "outputs": [
    {
     "data": {
      "image/png": "[encoded data removed]",
      "text/plain": [
       "<Figure size 720x432 with 1 Axes>"
      ]
     },
     "metadata": {
      "needs_background": "light"
     },
     "output_type": "display_data"
    }
   ],
   "source": [
    "plt.figure(figsize=(10, 6))\n",
    "for i in range(10):\n",
    "    x0 = np.random.rand(A_p.shape[0])\n",
    "    x, l, res = power_method(A_p, np.random.rand(A_p.shape[0]), 100)\n",
    "    plt.semilogy(res, marker=\"o\",markersize=2 ,label=\"x0_{}\".format(i+1))\n",
    "\n",
    "plt.ylabel(\"$\\|Ax_{k+1} - \\lambda^{(k+1) x_{k+1}}\\|$\")\n",
    "plt.xlabel(\"k\")\n",
    "plt.legend()\n",
    "plt.grid()\n"
   ]
  },
  {
   "cell_type": "markdown",
   "metadata": {},
   "source": [
    "Although there still appears to be two identical maximum eigenvalues, the method converges. ¯¯\\\\_ _(ツ)_ _/¯¯"
   ]
  },
  {
   "cell_type": "code",
   "execution_count": 591,
   "metadata": {},
   "outputs": [],
   "source": [
    "d = 0.97\n",
    "A_d = (d * A + (1 - d) / A.shape[0])\n",
    "x, l, res = power_method(A_d, np.random.rand(A_d.shape[0]), 100)"
   ]
  },
  {
   "cell_type": "code",
   "execution_count": 592,
   "metadata": {},
   "outputs": [
    {
     "data": {
      "image/png": "[encoded data removed]",
      "text/plain": [
       "<Figure size 720x432 with 1 Axes>"
      ]
     },
     "metadata": {
      "needs_background": "light"
     },
     "output_type": "display_data"
    }
   ],
   "source": [
    "plt.figure(figsize=(10, 6))\n",
    "plt.semilogy(res, marker=\"o\", markersize=3)\n",
    "plt.ylabel(\"$\\|Ax_{k+1} - \\lambda^{(k+1) x_{k+1}}\\|$\")\n",
    "plt.xlabel(\"k\")\n",
    "plt.grid()"
   ]
  },
  {
   "cell_type": "code",
   "execution_count": 594,
   "metadata": {},
   "outputs": [
    {
     "name": "stdout",
     "output_type": "stream",
     "text": [
      "[-0.485+0.485j -0.485-0.485j  1.   +0.j     0.97 +0.j    -0.97 +0.j   ]\n"
     ]
    }
   ],
   "source": [
    "print(np.linalg.eigvals(A_d))"
   ]
  },
  {
   "cell_type": "markdown",
   "metadata": {},
   "source": [
    "The largest eigenvalues are 1 and 0.97, which is equal to $d\\lambda_2$. "
   ]
  },
  {
   "cell_type": "code",
   "execution_count": 595,
   "metadata": {},
   "outputs": [],
   "source": [
    "# INPUT:  A - np.ndarray (2D), d - float (from 0.0 to 1.0), x - np.ndarray (1D, size of A.shape[0/1])\n",
    "# OUTPUT: y - np.ndarray (1D, size of x)\n",
    "def pagerank_matvec(A, d, x): # 2 pts\n",
    "    A = np.array(A, dtype = float)\n",
    "    y = d* (np.dot(A,x) + (1-d)/A.shape[0] * np.sum(x))\n",
    "    return y"
   ]
  },
  {
   "cell_type": "markdown",
   "metadata": {},
   "source": [
    "#### DBLP: computer science bibliography\n",
    "\n",
    "Download the dataset from [here](https://goo.gl/oZVxEa), unzip it and put `dblp_authors.npz`  and `dblp_graph.npz` in the same folder with this notebook. Each value (author name) from `dblp_authors.npz` corresponds to the row/column of the matrix from `dblp_graph.npz`. Value at row `i` and column `j` of the matrix from `dblp_graph.npz` corresponds to the number of times author `i` cited papers of the author `j`. Let us now find the most significant scientists according to PageRank model over DBLP data.\n",
    "\n",
    "* (4 pts) Load the weighted adjacency matrix and the authors list into Python using ```load_dblp(...)``` function. Print its density (fraction of nonzero elements). Find top-10 most cited authors from the weighted adjacency matrix. Now, make all the weights of the adjacency matrix equal to 1 for simplicity (consider only existence of connection between authors, not its weight). Obtain the PageRank matrix $A$ from the adjacency matrix and verify that it is stochastic.\n",
    " \n",
    " \n",
    "* (1 pts) In order to provide ```pagerank_matvec``` to your ```power_method``` (without rewriting it) for fast calculation of $A_dx$, you can create a ```LinearOperator```: \n",
    "```python\n",
    "L = scipy.sparse.linalg.LinearOperator(A.shape, matvec=lambda x, A=A, d=d: pagerank_matvec(A, d, x))\n",
    "```\n",
    "Calling ```L@x``` or ```L.dot(x)``` will result in calculation of ```pagerank_matvec(A, d, x)``` and, thus, you can plug $L$ instead of the matrix $A$ in the ```power_method``` directly. **Note:** though in the previous subtask graph was very small (so you could disparage fast matvec implementation), here it is very large (but sparse), so that direct evaluation of $A_dx$ will require $\\sim 10^{12}$ matrix elements to store - good luck with that (^_<).\n",
    "\n",
    "\n",
    "* (2 pts) Run the power method starting from the vector of all ones and plot residuals $\\|A_dx_k - \\lambda_k x_k\\|_2$  as a function of $k$ for $d=0.85$.\n",
    "\n",
    "\n",
    "* (1 pts) Print names of the top-10 authors according to PageRank over DBLP when $d=0.85$. Comment on your findings."
   ]
  },
  {
   "cell_type": "code",
   "execution_count": 599,
   "metadata": {},
   "outputs": [],
   "source": [
    "from scipy.sparse import load_npz\n",
    "import numpy as np\n",
    "def load_dblp(path_auth, path_graph):\n",
    "    G = load_npz(path_graph).astype(float)\n",
    "    with np.load(path_auth) as data: authors = data['authors']\n",
    "    return G, authors\n",
    "G, authors = load_dblp('dblp_authors.npz', 'dblp_graph.npz')"
   ]
  },
  {
   "cell_type": "code",
   "execution_count": 600,
   "metadata": {},
   "outputs": [
    {
     "name": "stdout",
     "output_type": "stream",
     "text": [
      "4.4986518152305776e-05 density\n"
     ]
    }
   ],
   "source": [
    "print(np.count_nonzero(G.data)/(G.shape[1]*G.shape[0]), 'density')"
   ]
  },
  {
   "cell_type": "code",
   "execution_count": 602,
   "metadata": {},
   "outputs": [
    {
     "name": "stdout",
     "output_type": "stream",
     "text": [
      "[['Scott Shenker' 'Andrew Zisserman' 'Hari Balakrishnan' 'Jiawei Han'\n",
      "  'Anil K. Jain' 'Cordelia Schmid' 'Jitendra Malik' 'Ion Stoica'\n",
      "  'David E. Culler' 'David G. Lowe']] authors [[0.06784592 0.06711285 0.06637412 0.06606561 0.06446135 0.05830357\n",
      "  0.0575456  0.05548508 0.05420858 0.05302887]] rank\n"
     ]
    }
   ],
   "source": [
    "rank = G.mean(axis=0)\n",
    "author = np.argsort(rank[0,:])[0, -10:]\n",
    "print(authors[author][:, ::-1],'authors',rank[0,author][:,::-1],'rank')"
   ]
  },
  {
   "cell_type": "code",
   "execution_count": 603,
   "metadata": {},
   "outputs": [],
   "source": [
    "A = pagerank_matrix(G)"
   ]
  },
  {
   "cell_type": "code",
   "execution_count": null,
   "metadata": {},
   "outputs": [],
   "source": []
  }
 ],
 "metadata": {
  "kernelspec": {
   "display_name": "Python 3",
   "language": "python",
   "name": "python3"
  },
  "language_info": {
   "codemirror_mode": {
    "name": "ipython",
    "version": 3
   },
   "file_extension": ".py",
   "mimetype": "text/x-python",
   "name": "python",
   "nbconvert_exporter": "python",
   "pygments_lexer": "ipython3",
   "version": "3.7.3"
  },
  "toc": {
   "base_numbering": 1,
   "nav_menu": {},
   "number_sections": true,
   "sideBar": true,
   "skip_h1_title": false,
   "title_cell": "Table of Contents",
   "title_sidebar": "Contents",
   "toc_cell": false,
   "toc_position": {},
   "toc_section_display": true,
   "toc_window_display": false
  }
 },
 "nbformat": 4,
 "nbformat_minor": 2
}
